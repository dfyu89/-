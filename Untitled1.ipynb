{
 "cells": [
  {
   "cell_type": "code",
   "execution_count": 1,
   "metadata": {},
   "outputs": [],
   "source": [
    "def rev(a):\n",
    "    n=len(a)\n",
    "    for i in range(n//2):\n",
    "        t=a[i]\n",
    "        a[i]=a[n-i-1]\n",
    "        a[n-i-1]=t\n",
    "def insert(a,pos,v):\n",
    "    a.insert(pos,v)\n",
    "def delete(a,pos):\n",
    "    if 0 <= pos < len(a):\n",
    "        del a[pos]\n",
    "    else:\n",
    "        print(\"删除失败:索引超出范围\")\n",
    "def update(a,pos,newV):\n",
    "     if 0 <= pos < len(a):\n",
    "            a[pos]=newV \n",
    "def findV(a,v):\n",
    "    n=len(a)\n",
    "    for i in range(n):\n",
    "        if a[i]==v:\n",
    "            return i\n",
    "    return None\n",
    "def printList(a):\n",
    "    for item in a:\n",
    "        print(item,end=' ')\n",
    "    print()"
   ]
  },
  {
   "cell_type": "code",
   "execution_count": 2,
   "metadata": {},
   "outputs": [
    {
     "name": "stdout",
     "output_type": "stream",
     "text": [
      "50 6 -12 -1 2 1 \n",
      "50 6 66 -12 -1 2 1 \n",
      "[50, 6, 66, -1, 2, 1]\n",
      "[50, 6, 66, -1, 2, 88]\n",
      "4\n"
     ]
    }
   ],
   "source": [
    "a=[1,2,-1,-12,6,50]\n",
    "rev(a)\n",
    "printList(a)\n",
    "insert(a,2,66)\n",
    "printList(a)\n",
    "delete(a,3)\n",
    "print(a)\n",
    "update(a,5,88)\n",
    "print(a)\n",
    "key=2\n",
    "index=findV(a,key)\n",
    "print(index)"
   ]
  },
  {
   "cell_type": "code",
   "execution_count": null,
   "metadata": {},
   "outputs": [],
   "source": []
  }
 ],
 "metadata": {
  "kernelspec": {
   "display_name": "Python 3",
   "language": "python",
   "name": "python3"
  },
  "language_info": {
   "codemirror_mode": {
    "name": "ipython",
    "version": 3
   },
   "file_extension": ".py",
   "mimetype": "text/x-python",
   "name": "python",
   "nbconvert_exporter": "python",
   "pygments_lexer": "ipython3",
   "version": "3.7.0"
  }
 },
 "nbformat": 4,
 "nbformat_minor": 2
}
